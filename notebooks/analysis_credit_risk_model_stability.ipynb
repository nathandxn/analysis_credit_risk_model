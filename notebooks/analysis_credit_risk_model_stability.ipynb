{
 "cells": [
  {
   "cell_type": "markdown",
   "metadata": {},
   "source": [
    "## Analysis of Models Home Credit - Credit Risk Model Stability\n",
    "\n",
    "https://www.kaggle.com/competitions/home-credit-credit-risk-model-stability\n",
    "\n",
    "Contents:\n",
    "- [Importing Data and Pre-Processing](#load_data)\n",
    "- [Exploratory Analysis](#exp_analysis)\n",
    "- [Train-Test Split](#train_test)\n",
    "- [Fitting LightGBM Model](#model_lightgbm)"
   ]
  },
  {
   "cell_type": "code",
   "execution_count": 1,
   "metadata": {},
   "outputs": [],
   "source": [
    "# import packages\n",
    "\n",
    "import os\n",
    "from dotenv import load_dotenv\n",
    "from pyprojroot import here\n",
    "\n",
    "# set working directory to root of github project for consistent access to helper functions\n",
    "os.chdir(here())\n",
    "# load .env variables\n",
    "load_dotenv()\n",
    "\n",
    "import warnings\n",
    "\n",
    "warnings.filterwarnings(\"ignore\")\n",
    "\n",
    "import pandas as pd\n",
    "import numpy as np\n",
    "import scipy.stats as st\n",
    "import math\n",
    "from datetime import datetime\n",
    "\n",
    "import matplotlib.pyplot as plt\n",
    "import seaborn as sns\n",
    "\n",
    "from sklearn.model_selection import (\n",
    "    train_test_split,\n",
    "    GridSearchCV,\n",
    "    KFold,\n",
    ")\n",
    "\n",
    "from sklearn.preprocessing import OneHotEncoder\n",
    "from sklearn.impute import SimpleImputer\n",
    "\n",
    "from sklearn.linear_model import LogisticRegression\n",
    "\n",
    "import lightgbm as lgb\n",
    "import shap\n",
    "\n",
    "import snowflake.connector as sc\n",
    "\n",
    "from elements.utils.data_processors import snake_case\n",
    "from elements.utils.model_evaluation import classification_model_report\n",
    "\n",
    "pd.set_option(\"display.float_format\", \"{:.4f}\".format)\n",
    "pd.set_option(\"display.max_columns\", None)\n",
    "pd.set_option(\"display.max_rows\", None)"
   ]
  },
  {
   "cell_type": "code",
   "execution_count": 2,
   "metadata": {},
   "outputs": [],
   "source": [
    "# define feature columns\n",
    "\n",
    "cont_features = [\n",
    "    \"static_monthly_annuity_amount\",\n",
    "    \"static_next_month_annuity_amount\",\n",
    "    \"static_count_apply_same_email\",\n",
    "    \"static_count_apply_last_30_days\",\n",
    "    \"static_count_apply_same_phone_number\",\n",
    "    \"static_count_apply_same_employer\",\n",
    "    \"static_count_apply_same_employer_last_7_days\",\n",
    "    \"static_count_apply_same_mobile_phone_number\",\n",
    "    \"static_avg_days_past_or_before_due_of_paymt_last_24_months\",\n",
    "    \"static_avg_days_past_or_before_due_of_paymt_last_3_months\",\n",
    "    \"static_avg_days_past_or_before_due_of_paymt_last_24_months_with_tolerance\",\n",
    "    \"static_avg_days_past_due_of_paymt_last_24_months_with_tolerance_from_max_close_date\",\n",
    "    \"static_avg_instals_paid_last_24_months\",\n",
    "    \"avg_loan_amt_last_24_months\",\n",
    "    \"avg_days_past_due_last_9_months\",\n",
    "    \"static_avg_outstanding_bal_last_6_months\",\n",
    "    \"static_avg_of_pays_made_last_12_months\",\n",
    "    \"static_count_clients_have_used_same_mobile_number_last_12_months\",\n",
    "    \"static_count_clients_have_used_same_mobile_number_last_3_months\",\n",
    "    \"static_count_clients_have_used_same_mobile_number_last_6_months\",\n",
    "    \"static_count_apply_match_employers_phone_and_clients\",\n",
    "    \"static_count_clients_share_same_mobile_phone\",\n",
    "    \"static_count_apply_match_client_alt_phone\",\n",
    "    \"static_count_apply_client_match_alt_phone\",\n",
    "]\n",
    "\n",
    "cat_features = [\n",
    "    \"static_type_of_bank_account\",\n",
    "    \"static_type_of_credit_card\",\n",
    "]"
   ]
  },
  {
   "cell_type": "markdown",
   "metadata": {},
   "source": [
    "# Importing Data and Pre-Processing\n",
    "<a id='load_data'></a>"
   ]
  },
  {
   "cell_type": "code",
   "execution_count": 3,
   "metadata": {},
   "outputs": [],
   "source": [
    "# initialize snowflake connector\n",
    "conn = sc.connect(\n",
    "    user=os.getenv(\"SNOWFLAKE_USERNAME\"),\n",
    "    password=os.getenv(\"SNOWFLAKE_PASSWORD\"),\n",
    "    account=os.getenv(\"SNOWFLAKE_ACCOUNT\"),\n",
    "    role=os.getenv(\"SNOWFLAKE_ROLE\"),\n",
    "    warehouse=os.getenv(\"SNOWFLAKE_WAREHOUSE\"),\n",
    ")"
   ]
  },
  {
   "cell_type": "code",
   "execution_count": 4,
   "metadata": {},
   "outputs": [],
   "source": [
    "# importing data set\n",
    "\n",
    "modeling_case_default_prediction_df = pd.read_sql(\n",
    "    \"select * from credit_risk_dw.modeling.modeling_case_default_prediction\",\n",
    "    conn,\n",
    ")"
   ]
  },
  {
   "cell_type": "code",
   "execution_count": 5,
   "metadata": {},
   "outputs": [],
   "source": [
    "# lowercase columns\n",
    "\n",
    "modeling_case_default_prediction_df.columns = [\n",
    "    x.lower() for x in modeling_case_default_prediction_df.columns\n",
    "]"
   ]
  },
  {
   "cell_type": "code",
   "execution_count": 6,
   "metadata": {},
   "outputs": [
    {
     "name": "stdout",
     "output_type": "stream",
     "text": [
      "<class 'pandas.core.frame.DataFrame'>\n",
      "RangeIndex: 1526659 entries, 0 to 1526658\n",
      "Data columns (total 35 columns):\n",
      " #   Column                                                                               Non-Null Count    Dtype  \n",
      "---  ------                                                                               --------------    -----  \n",
      " 0   case_model_group_key                                                                 1526659 non-null  object \n",
      " 1   case_id                                                                              1526659 non-null  int64  \n",
      " 2   model_group                                                                          1526659 non-null  object \n",
      " 3   is_default                                                                           1526659 non-null  int64  \n",
      " 4   decision_date                                                                        1526659 non-null  object \n",
      " 5   decision_month                                                                       1526659 non-null  int64  \n",
      " 6   week_number                                                                          1526659 non-null  int64  \n",
      " 7   has_static_features                                                                  1526659 non-null  bool   \n",
      " 8   static_actual_days_past_due_with_tolerance                                           1108481 non-null  float64\n",
      " 9   static_monthly_annuity_amount                                                        1526659 non-null  float64\n",
      " 10  static_next_month_annuity_amount                                                     1526655 non-null  float64\n",
      " 11  static_count_apply_same_email                                                        1526659 non-null  float64\n",
      " 12  static_count_apply_last_30_days                                                      1526659 non-null  float64\n",
      " 13  static_count_apply_same_phone_number                                                 1526659 non-null  float64\n",
      " 14  static_count_apply_same_employer                                                     1526659 non-null  float64\n",
      " 15  static_count_apply_same_employer_last_7_days                                         1526659 non-null  float64\n",
      " 16  static_count_apply_same_mobile_phone_number                                          1526659 non-null  float64\n",
      " 17  static_avg_days_past_or_before_due_of_paymt_last_24_months                           913457 non-null   float64\n",
      " 18  static_avg_days_past_or_before_due_of_paymt_last_3_months                            578415 non-null   float64\n",
      " 19  static_avg_days_past_or_before_due_of_paymt_last_24_months_with_tolerance            553832 non-null   float64\n",
      " 20  static_avg_days_past_due_of_paymt_last_24_months_with_tolerance_from_max_close_date  1059484 non-null  float64\n",
      " 21  static_avg_instals_paid_last_24_months                                               901784 non-null   float64\n",
      " 22  avg_loan_amt_last_24_months                                                          162509 non-null   float64\n",
      " 23  avg_days_past_due_last_9_months                                                      769653 non-null   float64\n",
      " 24  static_avg_outstanding_bal_last_6_months                                             685478 non-null   float64\n",
      " 25  static_avg_of_pays_made_last_12_months                                               499672 non-null   float64\n",
      " 26  static_type_of_bank_account                                                          417030 non-null   object \n",
      " 27  static_type_of_credit_card                                                           191691 non-null   object \n",
      " 28  static_count_clients_have_used_same_mobile_number_last_12_months                     1526659 non-null  float64\n",
      " 29  static_count_clients_have_used_same_mobile_number_last_3_months                      1526659 non-null  float64\n",
      " 30  static_count_clients_have_used_same_mobile_number_last_6_months                      1526659 non-null  float64\n",
      " 31  static_count_apply_match_employers_phone_and_clients                                 1526659 non-null  float64\n",
      " 32  static_count_clients_share_same_mobile_phone                                         1526659 non-null  float64\n",
      " 33  static_count_apply_match_client_alt_phone                                            1526659 non-null  float64\n",
      " 34  static_count_apply_client_match_alt_phone                                            1526659 non-null  float64\n",
      "dtypes: bool(1), float64(25), int64(4), object(5)\n",
      "memory usage: 397.5+ MB\n"
     ]
    }
   ],
   "source": [
    "# check import\n",
    "\n",
    "modeling_case_default_prediction_df.info()"
   ]
  },
  {
   "cell_type": "code",
   "execution_count": 7,
   "metadata": {},
   "outputs": [
    {
     "data": {
      "text/plain": [
       "0    1478665\n",
       "1      47994\n",
       "Name: is_default, dtype: int64"
      ]
     },
     "execution_count": 7,
     "metadata": {},
     "output_type": "execute_result"
    }
   ],
   "source": [
    "modeling_case_default_prediction_df.is_default.value_counts()"
   ]
  },
  {
   "cell_type": "code",
   "execution_count": 8,
   "metadata": {},
   "outputs": [],
   "source": [
    "# pre-processing\n",
    "\n",
    "for col in cat_features:\n",
    "\n",
    "    modeling_case_default_prediction_df[col] = modeling_case_default_prediction_df.apply(\n",
    "        lambda x: snake_case(x[col]),\n",
    "        axis = 1\n",
    "    )\n",
    "\n",
    "    # fill-in missing values\n",
    "\n",
    "    modeling_case_default_prediction_df[col] = np.where(\n",
    "        modeling_case_default_prediction_df[col].isnull(),\n",
    "        'missing',\n",
    "        modeling_case_default_prediction_df[col]\n",
    "    )\n"
   ]
  },
  {
   "cell_type": "markdown",
   "metadata": {},
   "source": [
    "# Exploratory Analysis\n",
    "<a id='exp_analysis'></a>"
   ]
  },
  {
   "cell_type": "code",
   "execution_count": 9,
   "metadata": {},
   "outputs": [],
   "source": [
    "# distribution by is_default for continuous features"
   ]
  },
  {
   "cell_type": "markdown",
   "metadata": {},
   "source": [
    "# Train-Test Split\n",
    "<a id='train_test'></a>"
   ]
  },
  {
   "cell_type": "code",
   "execution_count": 10,
   "metadata": {},
   "outputs": [],
   "source": [
    "# train-test splits for validating final predictive model\n",
    "\n",
    "y = modeling_case_default_prediction_df.is_default\n",
    "X = modeling_case_default_prediction_df[cont_features + cat_features]\n",
    "\n",
    "X_train, X_test, y_train, y_test = train_test_split(X, y, test_size = 0.3, random_state = 123)"
   ]
  },
  {
   "cell_type": "code",
   "execution_count": 11,
   "metadata": {},
   "outputs": [
    {
     "name": "stdout",
     "output_type": "stream",
     "text": [
      "X_train shape: (1068661, 26)\n",
      "X_test shape: (457998, 26)\n"
     ]
    }
   ],
   "source": [
    "print(\"X_train shape:\", X_train.shape)\n",
    "print(\"X_test shape:\", X_test.shape)"
   ]
  },
  {
   "cell_type": "code",
   "execution_count": 12,
   "metadata": {},
   "outputs": [],
   "source": [
    "# resetting index is necessary for some re-merging later\n",
    "X_train = X_train.reset_index(drop = True)\n",
    "X_test = X_test.reset_index(drop = True)\n",
    "\n",
    "y_train = y_train.reset_index(drop = True)\n",
    "y_test = y_test.reset_index(drop = True)"
   ]
  },
  {
   "cell_type": "code",
   "execution_count": 13,
   "metadata": {},
   "outputs": [],
   "source": [
    "# encoding categorical data into booleans for easier interpretation of feature importance\n",
    "\n",
    "drop_binary_enc = OneHotEncoder(drop='if_binary', handle_unknown = 'ignore').fit(X_train.drop(cont_features, axis = 1))"
   ]
  },
  {
   "cell_type": "code",
   "execution_count": 14,
   "metadata": {},
   "outputs": [],
   "source": [
    "# creating dummy encoded datasets\n",
    "\n",
    "dummy_df_train = pd.DataFrame(\n",
    "      drop_binary_enc.transform(X_train.drop(cont_features, axis = 1)).toarray()\n",
    "    , columns = drop_binary_enc.get_feature_names(X_train.drop(cont_features, axis = 1).columns)\n",
    "    )\n",
    "\n",
    "dummy_df_test = pd.DataFrame(\n",
    "      drop_binary_enc.transform(X_test.drop(cont_features, axis = 1)).toarray()\n",
    "    , columns = drop_binary_enc.get_feature_names(X_test.drop(cont_features, axis = 1).columns)\n",
    "    )"
   ]
  },
  {
   "cell_type": "code",
   "execution_count": 15,
   "metadata": {},
   "outputs": [],
   "source": [
    "# imputing medians for any missing numeric variables\n",
    "\n",
    "for col in cont_features:\n",
    "    imp_median = SimpleImputer(missing_values=np.nan, strategy='median')\n",
    "    imp_median.fit(X_train[col].values.reshape(-1, 1))\n",
    "    \n",
    "    X_train[col] = imp_median.transform(X_train[col].values.reshape(-1, 1))\n",
    "    X_test[col] = imp_median.transform(X_test[col].values.reshape(-1, 1))"
   ]
  },
  {
   "cell_type": "code",
   "execution_count": 16,
   "metadata": {},
   "outputs": [],
   "source": [
    "# re-combining numeric and dummy encodings\n",
    "\n",
    "transformed_df = pd.concat([X_train[cont_features], dummy_df_train], axis = 1).reset_index(drop = True)\n",
    "transformed_test = pd.concat([X_test[cont_features], dummy_df_test], axis = 1).reset_index(drop = True)"
   ]
  },
  {
   "cell_type": "code",
   "execution_count": 17,
   "metadata": {},
   "outputs": [
    {
     "name": "stdout",
     "output_type": "stream",
     "text": [
      "Index([], dtype='object')\n",
      "Index([], dtype='object')\n"
     ]
    }
   ],
   "source": [
    "# making sure all nulls were removed\n",
    "\n",
    "print(transformed_df.columns[transformed_df.isnull().any()])\n",
    "print(transformed_test.columns[transformed_test.isnull().any()])"
   ]
  },
  {
   "cell_type": "markdown",
   "metadata": {},
   "source": [
    "# Fitting LightGBM Model\n",
    "<a id='model_lightgbm'></a>"
   ]
  },
  {
   "cell_type": "code",
   "execution_count": 19,
   "metadata": {},
   "outputs": [
    {
     "data": {
      "text/html": [
       "<style>#sk-container-id-1 {color: black;background-color: white;}#sk-container-id-1 pre{padding: 0;}#sk-container-id-1 div.sk-toggleable {background-color: white;}#sk-container-id-1 label.sk-toggleable__label {cursor: pointer;display: block;width: 100%;margin-bottom: 0;padding: 0.3em;box-sizing: border-box;text-align: center;}#sk-container-id-1 label.sk-toggleable__label-arrow:before {content: \"▸\";float: left;margin-right: 0.25em;color: #696969;}#sk-container-id-1 label.sk-toggleable__label-arrow:hover:before {color: black;}#sk-container-id-1 div.sk-estimator:hover label.sk-toggleable__label-arrow:before {color: black;}#sk-container-id-1 div.sk-toggleable__content {max-height: 0;max-width: 0;overflow: hidden;text-align: left;background-color: #f0f8ff;}#sk-container-id-1 div.sk-toggleable__content pre {margin: 0.2em;color: black;border-radius: 0.25em;background-color: #f0f8ff;}#sk-container-id-1 input.sk-toggleable__control:checked~div.sk-toggleable__content {max-height: 200px;max-width: 100%;overflow: auto;}#sk-container-id-1 input.sk-toggleable__control:checked~label.sk-toggleable__label-arrow:before {content: \"▾\";}#sk-container-id-1 div.sk-estimator input.sk-toggleable__control:checked~label.sk-toggleable__label {background-color: #d4ebff;}#sk-container-id-1 div.sk-label input.sk-toggleable__control:checked~label.sk-toggleable__label {background-color: #d4ebff;}#sk-container-id-1 input.sk-hidden--visually {border: 0;clip: rect(1px 1px 1px 1px);clip: rect(1px, 1px, 1px, 1px);height: 1px;margin: -1px;overflow: hidden;padding: 0;position: absolute;width: 1px;}#sk-container-id-1 div.sk-estimator {font-family: monospace;background-color: #f0f8ff;border: 1px dotted black;border-radius: 0.25em;box-sizing: border-box;margin-bottom: 0.5em;}#sk-container-id-1 div.sk-estimator:hover {background-color: #d4ebff;}#sk-container-id-1 div.sk-parallel-item::after {content: \"\";width: 100%;border-bottom: 1px solid gray;flex-grow: 1;}#sk-container-id-1 div.sk-label:hover label.sk-toggleable__label {background-color: #d4ebff;}#sk-container-id-1 div.sk-serial::before {content: \"\";position: absolute;border-left: 1px solid gray;box-sizing: border-box;top: 0;bottom: 0;left: 50%;z-index: 0;}#sk-container-id-1 div.sk-serial {display: flex;flex-direction: column;align-items: center;background-color: white;padding-right: 0.2em;padding-left: 0.2em;position: relative;}#sk-container-id-1 div.sk-item {position: relative;z-index: 1;}#sk-container-id-1 div.sk-parallel {display: flex;align-items: stretch;justify-content: center;background-color: white;position: relative;}#sk-container-id-1 div.sk-item::before, #sk-container-id-1 div.sk-parallel-item::before {content: \"\";position: absolute;border-left: 1px solid gray;box-sizing: border-box;top: 0;bottom: 0;left: 50%;z-index: -1;}#sk-container-id-1 div.sk-parallel-item {display: flex;flex-direction: column;z-index: 1;position: relative;background-color: white;}#sk-container-id-1 div.sk-parallel-item:first-child::after {align-self: flex-end;width: 50%;}#sk-container-id-1 div.sk-parallel-item:last-child::after {align-self: flex-start;width: 50%;}#sk-container-id-1 div.sk-parallel-item:only-child::after {width: 0;}#sk-container-id-1 div.sk-dashed-wrapped {border: 1px dashed gray;margin: 0 0.4em 0.5em 0.4em;box-sizing: border-box;padding-bottom: 0.4em;background-color: white;}#sk-container-id-1 div.sk-label label {font-family: monospace;font-weight: bold;display: inline-block;line-height: 1.2em;}#sk-container-id-1 div.sk-label-container {text-align: center;}#sk-container-id-1 div.sk-container {/* jupyter's `normalize.less` sets `[hidden] { display: none; }` but bootstrap.min.css set `[hidden] { display: none !important; }` so we also need the `!important` here to be able to override the default hidden behavior on the sphinx rendered scikit-learn.org. See: https://github.com/scikit-learn/scikit-learn/issues/21755 */display: inline-block !important;position: relative;}#sk-container-id-1 div.sk-text-repr-fallback {display: none;}</style><div id=\"sk-container-id-1\" class=\"sk-top-container\"><div class=\"sk-text-repr-fallback\"><pre>LGBMClassifier(bagging_fraction=0.9, bagging_freq=1, deterministic=True,\n",
       "               feature_fraction=0.6, importance_type=&#x27;gain&#x27;, is_unbalance=True,\n",
       "               max_depth=6, n_estimators=300, num_leaves=100,\n",
       "               objective=&#x27;binary&#x27;, reg_alpha=0.025, reg_lambda=0.01, seed=123,\n",
       "               verbose=-1)</pre><b>In a Jupyter environment, please rerun this cell to show the HTML representation or trust the notebook. <br />On GitHub, the HTML representation is unable to render, please try loading this page with nbviewer.org.</b></div><div class=\"sk-container\" hidden><div class=\"sk-item\"><div class=\"sk-estimator sk-toggleable\"><input class=\"sk-toggleable__control sk-hidden--visually\" id=\"sk-estimator-id-1\" type=\"checkbox\" checked><label for=\"sk-estimator-id-1\" class=\"sk-toggleable__label sk-toggleable__label-arrow\">LGBMClassifier</label><div class=\"sk-toggleable__content\"><pre>LGBMClassifier(bagging_fraction=0.9, bagging_freq=1, deterministic=True,\n",
       "               feature_fraction=0.6, importance_type=&#x27;gain&#x27;, is_unbalance=True,\n",
       "               max_depth=6, n_estimators=300, num_leaves=100,\n",
       "               objective=&#x27;binary&#x27;, reg_alpha=0.025, reg_lambda=0.01, seed=123,\n",
       "               verbose=-1)</pre></div></div></div></div></div>"
      ],
      "text/plain": [
       "LGBMClassifier(bagging_fraction=0.9, bagging_freq=1, deterministic=True,\n",
       "               feature_fraction=0.6, importance_type='gain', is_unbalance=True,\n",
       "               max_depth=6, n_estimators=300, num_leaves=100,\n",
       "               objective='binary', reg_alpha=0.025, reg_lambda=0.01, seed=123,\n",
       "               verbose=-1)"
      ]
     },
     "execution_count": 19,
     "metadata": {},
     "output_type": "execute_result"
    }
   ],
   "source": [
    "# fitting lightGBM classifier model\n",
    "\n",
    "is_default_classifier = lgb.LGBMClassifier(\n",
    "    seed = 123,\n",
    "    objective = 'binary',\n",
    "    is_unbalance = True,\n",
    "    n_estimators =  300,\n",
    "    num_leaves = 100,\n",
    "    max_depth = 6,\n",
    "    learning_rate = 0.10,\n",
    "    feature_fraction = 0.60,\n",
    "    bagging_freq = 1,\n",
    "    bagging_fraction = 0.90,\n",
    "    reg_alpha = 0.025,\n",
    "    reg_lambda = 0.01,\n",
    "    verbose = -1,\n",
    "    importance_type = 'gain',\n",
    "    deterministic = True,\n",
    ")\n",
    "\n",
    "is_default_classifier.fit(X = transformed_df, y = y_train)"
   ]
  },
  {
   "cell_type": "code",
   "execution_count": null,
   "metadata": {},
   "outputs": [],
   "source": []
  },
  {
   "cell_type": "code",
   "execution_count": null,
   "metadata": {},
   "outputs": [],
   "source": []
  }
 ],
 "metadata": {
  "kernelspec": {
   "display_name": ".venv",
   "language": "python",
   "name": "python3"
  },
  "language_info": {
   "codemirror_mode": {
    "name": "ipython",
    "version": 3
   },
   "file_extension": ".py",
   "mimetype": "text/x-python",
   "name": "python",
   "nbconvert_exporter": "python",
   "pygments_lexer": "ipython3",
   "version": "3.10.7"
  }
 },
 "nbformat": 4,
 "nbformat_minor": 2
}
