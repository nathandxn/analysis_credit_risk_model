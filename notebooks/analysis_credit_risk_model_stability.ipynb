{
 "cells": [
  {
   "cell_type": "markdown",
   "metadata": {},
   "source": [
    "## Analysis of Models Home Credit - Credit Risk Model Stability\n",
    "\n",
    "https://www.kaggle.com/competitions/home-credit-credit-risk-model-stability\n",
    "\n",
    "Contents:\n",
    "- [Importing Data and Pre-Processing](#load_data)\n",
    "- [Exploratory Analysis](#exp_analysis)\n",
    "- [Train-Test Split](#train_test)"
   ]
  },
  {
   "cell_type": "code",
   "execution_count": 20,
   "metadata": {},
   "outputs": [],
   "source": [
    "# import packages\n",
    "\n",
    "import os\n",
    "from dotenv import load_dotenv\n",
    "from pyprojroot import here\n",
    "\n",
    "# set working directory to root of github project for consistent access to helper functions\n",
    "os.chdir(here())\n",
    "# load .env variables\n",
    "load_dotenv()\n",
    "\n",
    "import warnings\n",
    "\n",
    "warnings.filterwarnings(\"ignore\")\n",
    "\n",
    "import pandas as pd\n",
    "import numpy as np\n",
    "import scipy.stats as st\n",
    "import math\n",
    "from datetime import datetime\n",
    "\n",
    "import matplotlib.pyplot as plt\n",
    "import seaborn as sns\n",
    "\n",
    "from sklearn.model_selection import (\n",
    "    train_test_split,\n",
    "    GridSearchCV,\n",
    "    KFold,\n",
    ")\n",
    "\n",
    "from sklearn.preprocessing import OneHotEncoder\n",
    "from sklearn.impute import SimpleImputer\n",
    "\n",
    "from sklearn.linear_model import LogisticRegression\n",
    "\n",
    "import lightgbm as lgb\n",
    "import shap\n",
    "\n",
    "import snowflake.connector as sc\n",
    "\n",
    "from elements.utils.data_processors import snake_case\n",
    "from elements.utils.model_evaluation import classification_model_report\n",
    "\n",
    "pd.set_option(\"display.float_format\", \"{:.4f}\".format)\n",
    "pd.set_option(\"display.max_columns\", None)\n",
    "pd.set_option(\"display.max_rows\", None)"
   ]
  },
  {
   "cell_type": "code",
   "execution_count": 31,
   "metadata": {},
   "outputs": [],
   "source": [
    "# define feature columns\n",
    "\n",
    "cont_features = [\n",
    "    \"static_monthly_annuity_amount\",\n",
    "    \"static_next_month_annuity_amount\",\n",
    "    \"static_count_apply_same_email\",\n",
    "    \"static_count_apply_last_30_days\",\n",
    "    \"static_count_apply_same_phone_number\",\n",
    "    \"static_count_apply_same_employer\",\n",
    "    \"static_count_apply_same_employer_last_7_days\",\n",
    "    \"static_count_apply_same_mobile_phone_number\",\n",
    "    \"static_avg_days_past_or_before_due_of_paymt_last_24_months\",\n",
    "    \"static_avg_days_past_or_before_due_of_paymt_last_3_months\",\n",
    "    \"static_avg_days_past_or_before_due_of_paymt_last_24_months_with_tolerance\",\n",
    "    \"static_avg_days_past_due_of_paymt_last_24_months_with_tolerance_from_max_close_date\",\n",
    "    \"static_avg_instals_paid_last_24_months\",\n",
    "    \"avg_loan_amt_last_24_months\",\n",
    "    \"avg_days_past_due_last_9_months\",\n",
    "    \"static_avg_outstanding_bal_last_6_months\",\n",
    "    \"static_avg_of_pays_made_last_12_months\",\n",
    "    \"static_count_clients_have_used_same_mobile_number_last_12_months\",\n",
    "    \"static_count_clients_have_used_same_mobile_number_last_3_months\",\n",
    "    \"static_count_clients_have_used_same_mobile_number_last_6_months\",\n",
    "    \"static_count_apply_match_employers_phone_and_clients\",\n",
    "    \"static_count_clients_share_same_mobile_phone\",\n",
    "    \"static_count_apply_match_client_alt_phone\",\n",
    "    \"static_count_apply_client_match_alt_phone\",\n",
    "]\n",
    "\n",
    "cat_features = [\n",
    "    \"static_type_of_bank_account\",\n",
    "    \"static_type_of_credit_card\",\n",
    "]"
   ]
  },
  {
   "cell_type": "markdown",
   "metadata": {},
   "source": [
    "# Importing Data and Pre-Processing\n",
    "<a id='load_data'></a>"
   ]
  },
  {
   "cell_type": "code",
   "execution_count": 24,
   "metadata": {},
   "outputs": [],
   "source": [
    "# initialize snowflake connector\n",
    "conn = sc.connect(\n",
    "    user=os.getenv(\"SNOWFLAKE_USERNAME\"),\n",
    "    password=os.getenv(\"SNOWFLAKE_PASSWORD\"),\n",
    "    account=os.getenv(\"SNOWFLAKE_ACCOUNT\"),\n",
    "    role=os.getenv(\"SNOWFLAKE_ROLE\"),\n",
    "    warehouse=os.getenv(\"SNOWFLAKE_WAREHOUSE\"),\n",
    ")"
   ]
  },
  {
   "cell_type": "code",
   "execution_count": 25,
   "metadata": {},
   "outputs": [],
   "source": [
    "# importing data set\n",
    "\n",
    "modeling_case_default_prediction_df = pd.read_sql(\n",
    "    \"select * from credit_risk_dw.modeling.modeling_case_default_prediction\",\n",
    "    conn,\n",
    ")"
   ]
  },
  {
   "cell_type": "code",
   "execution_count": 27,
   "metadata": {},
   "outputs": [],
   "source": [
    "# lowercase columns\n",
    "\n",
    "modeling_case_default_prediction_df.columns = [\n",
    "    x.lower() for x in modeling_case_default_prediction_df.columns\n",
    "]"
   ]
  },
  {
   "cell_type": "code",
   "execution_count": 28,
   "metadata": {},
   "outputs": [
    {
     "name": "stdout",
     "output_type": "stream",
     "text": [
      "<class 'pandas.core.frame.DataFrame'>\n",
      "RangeIndex: 1526659 entries, 0 to 1526658\n",
      "Data columns (total 35 columns):\n",
      " #   Column                                                                               Non-Null Count    Dtype  \n",
      "---  ------                                                                               --------------    -----  \n",
      " 0   case_model_group_key                                                                 1526659 non-null  object \n",
      " 1   case_id                                                                              1526659 non-null  int64  \n",
      " 2   model_group                                                                          1526659 non-null  object \n",
      " 3   is_default                                                                           1526659 non-null  int64  \n",
      " 4   decision_date                                                                        1526659 non-null  object \n",
      " 5   decision_month                                                                       1526659 non-null  int64  \n",
      " 6   week_number                                                                          1526659 non-null  int64  \n",
      " 7   has_static_features                                                                  1526659 non-null  bool   \n",
      " 8   static_actual_days_past_due_with_tolerance                                           1108481 non-null  float64\n",
      " 9   static_monthly_annuity_amount                                                        1526659 non-null  float64\n",
      " 10  static_next_month_annuity_amount                                                     1526655 non-null  float64\n",
      " 11  static_count_apply_same_email                                                        1526659 non-null  float64\n",
      " 12  static_count_apply_last_30_days                                                      1526659 non-null  float64\n",
      " 13  static_count_apply_same_phone_number                                                 1526659 non-null  float64\n",
      " 14  static_count_apply_same_employer                                                     1526659 non-null  float64\n",
      " 15  static_count_apply_same_employer_last_7_days                                         1526659 non-null  float64\n",
      " 16  static_count_apply_same_mobile_phone_number                                          1526659 non-null  float64\n",
      " 17  static_avg_days_past_or_before_due_of_paymt_last_24_months                           913457 non-null   float64\n",
      " 18  static_avg_days_past_or_before_due_of_paymt_last_3_months                            578415 non-null   float64\n",
      " 19  static_avg_days_past_or_before_due_of_paymt_last_24_months_with_tolerance            553832 non-null   float64\n",
      " 20  static_avg_days_past_due_of_paymt_last_24_months_with_tolerance_from_max_close_date  1059484 non-null  float64\n",
      " 21  static_avg_instals_paid_last_24_months                                               901784 non-null   float64\n",
      " 22  avg_loan_amt_last_24_months                                                          162509 non-null   float64\n",
      " 23  avg_days_past_due_last_9_months                                                      769653 non-null   float64\n",
      " 24  static_avg_outstanding_bal_last_6_months                                             685478 non-null   float64\n",
      " 25  static_avg_of_pays_made_last_12_months                                               499672 non-null   float64\n",
      " 26  static_type_of_bank_account                                                          417030 non-null   object \n",
      " 27  static_type_of_credit_card                                                           191691 non-null   object \n",
      " 28  static_count_clients_have_used_same_mobile_number_last_12_months                     1526659 non-null  float64\n",
      " 29  static_count_clients_have_used_same_mobile_number_last_3_months                      1526659 non-null  float64\n",
      " 30  static_count_clients_have_used_same_mobile_number_last_6_months                      1526659 non-null  float64\n",
      " 31  static_count_apply_match_employers_phone_and_clients                                 1526659 non-null  float64\n",
      " 32  static_count_clients_share_same_mobile_phone                                         1526659 non-null  float64\n",
      " 33  static_count_apply_match_client_alt_phone                                            1526659 non-null  float64\n",
      " 34  static_count_apply_client_match_alt_phone                                            1526659 non-null  float64\n",
      "dtypes: bool(1), float64(25), int64(4), object(5)\n",
      "memory usage: 397.5+ MB\n"
     ]
    }
   ],
   "source": [
    "# check import\n",
    "\n",
    "modeling_case_default_prediction_df.info()"
   ]
  },
  {
   "cell_type": "code",
   "execution_count": 29,
   "metadata": {},
   "outputs": [
    {
     "data": {
      "text/plain": [
       "0    1478665\n",
       "1      47994\n",
       "Name: is_default, dtype: int64"
      ]
     },
     "execution_count": 29,
     "metadata": {},
     "output_type": "execute_result"
    }
   ],
   "source": [
    "modeling_case_default_prediction_df.is_default.value_counts()"
   ]
  },
  {
   "cell_type": "code",
   "execution_count": 35,
   "metadata": {},
   "outputs": [],
   "source": [
    "# pre-processing\n",
    "\n",
    "for col in cat_features:\n",
    "\n",
    "    modeling_case_default_prediction_df[col] = modeling_case_default_prediction_df.apply(\n",
    "        lambda x: snake_case(x[col]),\n",
    "        axis = 1\n",
    "    )\n",
    "\n",
    "    # fill-in missing values\n",
    "\n",
    "    modeling_case_default_prediction_df[col] = np.where(\n",
    "        modeling_case_default_prediction_df[col].isnull(),\n",
    "        'missing',\n",
    "        modeling_case_default_prediction_df[col]\n",
    "    )\n"
   ]
  },
  {
   "cell_type": "markdown",
   "metadata": {},
   "source": [
    "# Exploratory Analysis\n",
    "<a id='exp_analysis'></a>"
   ]
  },
  {
   "cell_type": "markdown",
   "metadata": {},
   "source": [
    "# Train-Test Split\n",
    "<a id='train_test'></a>"
   ]
  },
  {
   "cell_type": "code",
   "execution_count": null,
   "metadata": {},
   "outputs": [],
   "source": []
  }
 ],
 "metadata": {
  "kernelspec": {
   "display_name": ".venv",
   "language": "python",
   "name": "python3"
  },
  "language_info": {
   "codemirror_mode": {
    "name": "ipython",
    "version": 3
   },
   "file_extension": ".py",
   "mimetype": "text/x-python",
   "name": "python",
   "nbconvert_exporter": "python",
   "pygments_lexer": "ipython3",
   "version": "3.10.7"
  }
 },
 "nbformat": 4,
 "nbformat_minor": 2
}
